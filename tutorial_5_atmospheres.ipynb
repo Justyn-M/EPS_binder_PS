{
 "cells": [
  {
   "cell_type": "markdown",
   "metadata": {},
   "source": [
    "# This is a \"Jupyter Notebook\". \n",
    "It is a way of combining text and code (here we use the programming language Python3) and running it in a web browser. Coding is an incredible tool for exploring large amounts of data, especially if you want to perform similar analyses over and over on different datasets. \n",
    "\n",
    "We would like you to use this notebook as a basic calculator to get used to this environment. You will find it extremely useful for future work. \n",
    "\n",
    "We've put in the first few steps for you. "
   ]
  },
  {
   "cell_type": "markdown",
   "metadata": {},
   "source": [
    "some useful links for help with jupyter notebooks:\n",
    "\n",
    "https://towardsdatascience.com/jypyter-notebook-shortcuts-bf0101a98330"
   ]
  },
  {
   "cell_type": "markdown",
   "metadata": {},
   "source": [
    "some useful links for help with python:\n",
    "\n",
    "https://howchoo.com/g/m2vmotm5odn/basic-math-in-python\n",
    "\n",
    "https://pythonprogramming.net/math-basics-python-3-beginner-tutorial/\n",
    "\n",
    "https://en.wikibooks.org/wiki/Non-Programmer%27s_Tutorial_for_Python_3"
   ]
  },
  {
   "cell_type": "markdown",
   "metadata": {},
   "source": [
    "#### maths usage\n",
    "| operator | name   | example |\n",
    "|:------|:---------------|:------|\n",
    "|   +  | addition| 2 + 2 |\n",
    "|   -  | subtraction| 2 - 2 |\n",
    "|   *  | multiplication| 2 * 2 |\n",
    "|   /  | division| 2 / 2 |\n",
    "|   **  | exponent| 2**4 |\n",
    "\n",
    "\n",
    "#### Jupyter usage\n",
    "| operator | name  |\n",
    "|:------|:---------------|\n",
    "|   shift + enter  | run a cell |\n",
    "|   up/down arrows  | move between cells |"
   ]
  },
  {
   "cell_type": "markdown",
   "metadata": {},
   "source": [
    "# Start coding :)"
   ]
  },
  {
   "cell_type": "markdown",
   "metadata": {},
   "source": [
    "First, you will need to run this section of imports"
   ]
  },
  {
   "cell_type": "code",
   "execution_count": 1,
   "metadata": {},
   "outputs": [],
   "source": [
    "import math\n",
    "import numpy as np\n",
    "import scipy\n",
    "import scipy.integrate as integ\n",
    "import astropy.units as u\n",
    "from ipywidgets import interact, interactive, fixed, interact_manual\n"
   ]
  },
  {
   "cell_type": "markdown",
   "metadata": {},
   "source": [
    "### As before, please run the following functions as they are.\n",
    "If you wish to investigate how they work further, just ask :)"
   ]
  },
  {
   "cell_type": "code",
   "execution_count": 14,
   "metadata": {},
   "outputs": [],
   "source": [
    "KT_TNT_EQUIV = 4.185e12\n",
    "Grav_const = 6.6726e-11 #N-m2/kg2\n",
    "\n",
    "def grav(alt, M, r):\n",
    "    return Grav_const * M / (r + alt) ** 2\n",
    "\n",
    "def atm_roh(alt, p0, scale_height):\n",
    "    if p0>0:\n",
    "        return p0 * np.exp(-alt / scale_height)\n",
    "    else: return 0.\n",
    "\n",
    "def new_alt(alt, angle, dt, v):\n",
    "    dh = np.sin(angle) * dt * v\n",
    "    return alt - dh\n",
    "\n",
    "def rad2mass(rad, pm):\n",
    "    return 4. / 3. * math.pi * (rad)**3 * pm\n",
    "\n",
    "def find_strength(density):\n",
    "    if density < 2000.:\n",
    "        return 1e5\n",
    "    elif density < 3000:\n",
    "        return 1e6\n",
    "    elif density < 4000:\n",
    "        return 1e7\n",
    "    else: return 1e8"
   ]
  },
  {
   "cell_type": "markdown",
   "metadata": {},
   "source": [
    "### ablation and drag function definitions"
   ]
  },
  {
   "cell_type": "code",
   "execution_count": 40,
   "metadata": {},
   "outputs": [],
   "source": [
    "def ablation_fun(v0, slope, r0, pm, yield_str, params, ground=0.):\n",
    "    \n",
    "    M = params['mass_planet']\n",
    "    R =  params['mean_radius_planet']\n",
    "    P0 =  params['atm_density_groundlevel']\n",
    "    H = params['scale_height_planet']\n",
    "\n",
    "    ## assumptions:\n",
    "    ### Drag coefficient\n",
    "    cd = 1.3\n",
    "    \n",
    "    ### Ablation coefficient\n",
    "    sigma = 2.5e-8 # sec2/m2\n",
    "    \n",
    "    ## Start modelling from alt0 (~space)\n",
    "    alt0 = 200000.0\n",
    "    \n",
    "    ## bulk strength equation from collins et al. 2005\n",
    "    #yield_str = pow(10, 2.107+0.0624*pow(pm, 0.5))\n",
    "\n",
    "    ## initiate breakup altitudes\n",
    "    z_break = 0.\n",
    "    z_ab = 0.\n",
    "    z_b = 0.\n",
    "\n",
    "    ## define common drag/ablation equation parameters\n",
    "    ### constant wrt height for velocity\n",
    "    kv = 3/8. * cd / pm \n",
    "    \n",
    "    ### constant wrt height for radius\n",
    "    kr = 1./8 * sigma * cd / pm \n",
    "\n",
    "    # I = 4.07 * cd * H * yield_str / (pm * d * v0**2 * sin(angle))\n",
    "    # z_break = - H * (log(yield_str / (po * v0**2)) + 1.308 - 0.314 * I - 1.303 * np.sqrt(1 - I))\n",
    "    \n",
    "    ## mass for a sphere from volume and density\n",
    "    m = 4. / 3. * math.pi * (r0)**3 * pm\n",
    "    \n",
    "    ## energy given as kinetic energy\n",
    "    energy_0 = 0.5 * m * v0**2\n",
    "    \n",
    "    ## integration height range to be considered\n",
    "    alt_range = [alt0, z_break]\n",
    "    calc_alts=np.r_[alt0:ground:-100]\n",
    "    \n",
    "    ## parameters to be passed to integration:\n",
    "    ### initialisation of state before hitting the atmosphere \n",
    "    ### [initial velocity, initial radius, initial energy, incoming angle]\n",
    "    s_angle = np.sin(slope * u.deg)\n",
    "    X = np.array([v0, r0,  energy_0, s_angle])\n",
    "    X_all = np.array([v0, r0,  energy_0, s_angle, alt0])\n",
    "\n",
    "    ### constants and meteoroid density\n",
    "    param = [kv, kr, pm, M, R, P0, H]\n",
    "    \n",
    "    ## start integration. Stop when hits ground, when smaller than 1 mm diam or reach breakup altitude\n",
    "    i = 1\n",
    "\n",
    "    disintegrate_rad = 0.005\n",
    "    \n",
    "    while i<len(calc_alts) and X[1]>disintegrate_rad and calc_alts[i] > z_break:    \n",
    "\n",
    "        ode_out = scipy.integrate.odeint(integrals_abl, X, [calc_alts[i-1], calc_alts[i]],  args = (param,)) \n",
    "        \n",
    "        X = ode_out[1]\n",
    "\n",
    "        ## calculate head pressure body is exerted to \n",
    "        z_test = atm_roh(calc_alts[i], P0, H) * X[0]**2\n",
    "\n",
    "        ## test if the bulk strength of body is exceeded by head pressure. \n",
    "        ## set z_break to current altitude \n",
    "        if z_test>=yield_str:\n",
    "            z_break = (calc_alts[i-1]+calc_alts[i])/2.0\n",
    "        elif X[1] < disintegrate_rad:\n",
    "            z_ab = calc_alts[i]\n",
    "        \n",
    "        save_row = np.hstack((X, calc_alts[i]))\n",
    "        X_all = np.vstack((X_all, save_row))\n",
    "                    \n",
    "        i+= 1\n",
    "        \n",
    "    ## final state pulled from integration\n",
    "    [v, r, energy, s_angle] = X\n",
    "    slope = np.arcsin(s_angle) * u.rad\n",
    "    ## mass for a sphere from volume and density\n",
    "    m = 4. / 3. * math.pi * (r)**3 * pm\n",
    "    energy = 0.5 * m * v**2\n",
    "\n",
    "\n",
    "    return [v,                            # velocity\n",
    "           r,                            # radius\n",
    "           energy,                       # final energy\n",
    "           slope.to(u.degree),                        # final flight angle\n",
    "           z_break,\n",
    "            m,\n",
    "            z_ab\n",
    "           ]\n"
   ]
  },
  {
   "cell_type": "code",
   "execution_count": 41,
   "metadata": {},
   "outputs": [],
   "source": [
    "## define the function to integrate wrt height\n",
    "def integrals_abl(X, h, param): \n",
    "    [kv, kr, pm, M, R, P0, H] = param\n",
    "    \n",
    "    g = grav(h, M, R)\n",
    "    [v, rad, energy, s_angle] = X\n",
    "\n",
    "    m = rad2mass(rad, pm)\n",
    "\n",
    "    Xdot=[0., 0., 0., 0.] \n",
    "\n",
    "\n",
    "    #dv/dh\n",
    "    Xdot[0] = kv * atm_roh(h, P0, H) * v / (rad * s_angle) - g / v\n",
    "    \n",
    "    #dr/dh\n",
    "    Xdot[1] = kr * atm_roh(h, P0, H) * v**2 / (s_angle)\n",
    "    \n",
    "    #dE/dh\n",
    "    Xdot[2] = math.pi * pm * (2 * rad**2 * v**2 * Xdot[1] + 4/3. * rad**3 * v * Xdot[0]) #v**2 * m * v * Xdot[0]    \n",
    "    \n",
    "    #d_angle/dh\n",
    "    Xdot[3] = -g / v**2 * (1 - s_angle**2) / s_angle\n",
    "\n",
    "    return Xdot "
   ]
  },
  {
   "cell_type": "markdown",
   "metadata": {},
   "source": [
    "# Question 1"
   ]
  },
  {
   "cell_type": "markdown",
   "metadata": {},
   "source": [
    "### Part 1: define different planet properties. \n",
    "\n",
    "Some have been filled in for you.\n",
    "\n",
    "Use your notes from previous labs or google to fill in the missing values.\n",
    "\n",
    "Take note of the units we're looking for. "
   ]
  },
  {
   "cell_type": "code",
   "execution_count": 42,
   "metadata": {},
   "outputs": [],
   "source": [
    "def planet_params(planet):\n",
    "    \n",
    "    if planet== 'Earth':\n",
    "        mass_planet =                # kg \n",
    "        mean_radius_planet =         # metres\n",
    "        atm_density_groundlevel =    # kg/m3\n",
    "        scale_height_planet =        # m\n",
    "        \n",
    "    elif planet== 'Mars':\n",
    "        mass_planet =                # kg \n",
    "        mean_radius_planet =         # metres\n",
    "        atm_density_groundlevel =    # kg/m3\n",
    "        scale_height_planet =        # m\n",
    "        \n",
    "    elif planet== 'Moon':\n",
    "        mass_planet =                # kg \n",
    "        mean_radius_planet =         # metres\n",
    "        atm_density_groundlevel =    # kg/m3\n",
    "        scale_height_planet =        # m\n",
    "        \n",
    "    elif planet== 'Venus':\n",
    "        mass_planet =                # kg \n",
    "        mean_radius_planet =         # metres\n",
    "        atm_density_groundlevel =    # kg/m3\n",
    "        scale_height_planet =        # m\n",
    "        \n",
    "        \n",
    "    surface_gravity = Grav_const * mass_planet / mean_radius_planet**2\n",
    "        \n",
    "    return {'mass_planet':mass_planet, \n",
    "            'mean_radius_planet':mean_radius_planet, \n",
    "            'surface_gravity':surface_gravity,\n",
    "            'atm_density_groundlevel':atm_density_groundlevel, \n",
    "            'scale_height_planet':scale_height_planet}\n"
   ]
  },
  {
   "cell_type": "markdown",
   "metadata": {},
   "source": [
    "### Part 2\n",
    "\n",
    "Run the cell below and follow the instructions it prints out.\n"
   ]
  },
  {
   "cell_type": "code",
   "execution_count": 46,
   "metadata": {},
   "outputs": [
    {
     "name": "stdout",
     "output_type": "stream",
     "text": [
      "\n",
      "Fill in the following boxes. \n",
      "Note that we are using SI units, so meters, m/s, kg, kg/m3\n",
      "\n"
     ]
    },
    {
     "data": {
      "application/vnd.jupyter.widget-view+json": {
       "model_id": "93029d664f1e441bade09f297682731c",
       "version_major": 2,
       "version_minor": 0
      },
      "text/plain": [
       "interactive(children=(Dropdown(description='planet', options=('Earth', 'Mars', 'Moon', 'Venus'), value='Earth'…"
      ]
     },
     "metadata": {},
     "output_type": "display_data"
    },
    {
     "data": {
      "text/plain": [
       "<function __main__.impact(planet, initial_speed, angle, density, diameter)>"
      ]
     },
     "execution_count": 46,
     "metadata": {},
     "output_type": "execute_result"
    }
   ],
   "source": [
    "print(f\"\\nFill in the following boxes. \\nNote that we are using SI units, so meters, m/s, kg, kg/m3\\n\")\n",
    "\n",
    "def impact(planet, initial_speed, angle, density, diameter):\n",
    "    \n",
    "    density = float(density)\n",
    "    initial_speed = float(initial_speed)\n",
    "    density = float(density)\n",
    "    diameter = float(diameter)\n",
    "    angle = float(angle)\n",
    "    if angle < 0 or angle > 90:\n",
    "        print('angle should be between 0 and 90. default of 45 being used.')\n",
    "    \n",
    "    params = planet_params(planet)\n",
    "    surface_gravity = params['surface_gravity']\n",
    "\n",
    "    # radius of the body\n",
    "    r0 = diameter/2.    \n",
    "    print(f\"\\ninitial speed = {initial_speed:.2f} m/s \\ninitial diameter = {diameter:.2f}; initial radius = {r0:.2f} m \\ninitial mass = {rad2mass(r0, density):.2e} kg \\ninitial energy = {0.5 * rad2mass(r0, density) * initial_speed**2:.2e} J \\nimpact angle = {angle:.2f} \\nmeteoroid density = {density}\")\n",
    "    print(f\"\\nIf this were to hit {planet}\")\n",
    "    \n",
    "\n",
    "    \n",
    "    # how does the atmosphere affect the body?\n",
    "    # first check strength based on meteoroid type from density\n",
    "    bulk_strength = find_strength(density)\n",
    "    rock_changes = ablation_fun(initial_speed, angle, r0, density, bulk_strength, params)\n",
    "\n",
    "    final_speed = rock_changes[0]\n",
    "    final_diameter = rock_changes[1] *  2.\n",
    "    final_energy = rock_changes[2]\n",
    "    final_slope = rock_changes[3]\n",
    "    breakup_height = rock_changes[4]\n",
    "    final_mass = rock_changes[5]    \n",
    "    disintegrate_height = rock_changes[6]\n",
    "    \n",
    "    if breakup_height >0:\n",
    "        print(f\"it would not make a crater\")\n",
    "        print(f\"and would break up at {breakup_height /1000:.2f} km\")\n",
    "        \n",
    "    elif disintegrate_height > 0.:\n",
    "        print(f\"it would not make a crater\")\n",
    "        print(f\"and would entirely burn up in the atmosphere at {disintegrate_height/1000:.2f} km\")\n",
    "    else:\n",
    "        # determine the size of the crater:\n",
    "        a = 8.8e-3\n",
    "        b = 0.32\n",
    "        \n",
    "        D = final_energy**b * a * pow(9.8/surface_gravity, 3./16)\n",
    "        crater_diameter = D\n",
    "\n",
    "        print(f\"it would drop a meteorite on the ground!\")\n",
    "        if final_diameter>crater_diameter:\n",
    "            print(f\"but it would not make a crater\")\n",
    "        else:\n",
    "            print(f\"it would make a crater {crater_diameter:.2f} m in diameter\")\n",
    "                \n",
    "    \n",
    "    print(f\"\\nfinal speed = {final_speed:.2f} m/s \\nfinal diameter = {final_diameter:.4f} m \\nfinal energy = {final_energy:.2e} J \\nfinal slope = {final_slope:.2f} \\nfinal mass = {final_mass:.4f} kg\")\n",
    "#     print(f\"estimate: {crater_diameter:.1f} m crater on Mars \\n {e_TNT:.1e} kt TNT impact energy \\n {impactor_mass:.1e} kg impactor mass \\n {impactor_diameter:.2f} m impactor diameter')\n",
    "    \n",
    "interact(impact, planet=['Earth', 'Mars', 'Moon', 'Venus'], initial_speed='1.', angle='45', density='1.         ', diameter='1.')\n",
    "\n"
   ]
  }
 ],
 "metadata": {
  "kernelspec": {
   "display_name": "Python 3",
   "language": "python",
   "name": "python3"
  },
  "language_info": {
   "codemirror_mode": {
    "name": "ipython",
    "version": 3
   },
   "file_extension": ".py",
   "mimetype": "text/x-python",
   "name": "python",
   "nbconvert_exporter": "python",
   "pygments_lexer": "ipython3",
   "version": "3.8.1"
  }
 },
 "nbformat": 4,
 "nbformat_minor": 2
}
