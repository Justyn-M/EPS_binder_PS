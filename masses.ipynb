{
 "cells": [
  {
   "cell_type": "code",
   "execution_count": 8,
   "metadata": {},
   "outputs": [],
   "source": [
    "import numpy as np\n",
    "import astropy.units as u\n",
    "from math import pi\n"
   ]
  },
  {
   "cell_type": "code",
   "execution_count": 9,
   "metadata": {},
   "outputs": [],
   "source": [
    "# gravitational constant\n",
    "G = 6.67408e-11"
   ]
  },
  {
   "cell_type": "markdown",
   "metadata": {},
   "source": [
    "$F_g = \\frac{G m M}{r^2} \\quad \\quad \\quad F_c = \\frac{m v^2}{r}$"
   ]
  },
  {
   "cell_type": "markdown",
   "metadata": {},
   "source": [
    "## Question 1:"
   ]
  },
  {
   "cell_type": "markdown",
   "metadata": {},
   "source": [
    "The moon revolves around the earth every 27.32 days. Its orbit is 3.85e5 m from the Earth's centre. What is the mass of the Earth?"
   ]
  },
  {
   "cell_type": "markdown",
   "metadata": {},
   "source": [
    "$F_g = F_c$\n",
    "\n",
    "$\\frac{G m_{Moon} M_{Earth}}{r_{Earth\\,to\\,moon}^2} = \\frac{m_{Moon} v^2}{r_{Earth\\,to\\,moon}}$\n",
    "\n",
    "$\\frac{G M_{Earth}}{r_{Earth\\,to\\,moon}} = v^2$\n",
    "\n",
    "$G M_{Earth} = v^2 r_{Earth\\,to\\,moon}$\n",
    "\n",
    "\n",
    "$M_{Earth} = \\frac{v^2 r_{Earth\\,to\\,moon}}{G}$\n"
   ]
  },
  {
   "cell_type": "code",
   "execution_count": 10,
   "metadata": {},
   "outputs": [],
   "source": [
    "r = 3.85e8 * u.m # metres \n",
    "T = 27.32 * u.day  # days\n",
    "# T_s = T * 24 * 60 * 60  # 24 hours per day, 60 minutes per hour, 60 seconds per minute\n",
    "T_s = T.to(u.second)"
   ]
  },
  {
   "cell_type": "code",
   "execution_count": 11,
   "metadata": {},
   "outputs": [],
   "source": [
    "orb_length = 2 * pi * r\n",
    "speed = orb_length / T_s\n",
    "M_earth = speed**2 * r / G\n"
   ]
  },
  {
   "cell_type": "code",
   "execution_count": 12,
   "metadata": {},
   "outputs": [
    {
     "name": "stdout",
     "output_type": "stream",
     "text": [
      "6.058451592181715e+24 m3 / s2\n"
     ]
    }
   ],
   "source": [
    "print(M_earth)"
   ]
  },
  {
   "cell_type": "markdown",
   "metadata": {},
   "source": [
    "## Question 2:"
   ]
  },
  {
   "cell_type": "markdown",
   "metadata": {},
   "source": [
    "The Earth revolves around the Sun every 365.26 days. Its orbit is approximately circular, and the average distance from the Sun's centre is 149.6e9 m (1 AU). What is the mass of the Sun?"
   ]
  },
  {
   "cell_type": "code",
   "execution_count": 13,
   "metadata": {},
   "outputs": [],
   "source": [
    "r = 149.6e9 * u.m # metres \n",
    "T = 365.26 * u.day  # days\n",
    "# T_s = T * 24 * 60 * 60  # 24 hours per day, 60 minutes per hour, 60 seconds per minute\n",
    "T_s = T.to(u.second)"
   ]
  },
  {
   "cell_type": "code",
   "execution_count": 14,
   "metadata": {},
   "outputs": [],
   "source": [
    "orb_length = 2 * pi * r\n",
    "speed = orb_length / T_s\n",
    "M_sun = speed**2 * r / G"
   ]
  },
  {
   "cell_type": "code",
   "execution_count": 15,
   "metadata": {},
   "outputs": [
    {
     "name": "stdout",
     "output_type": "stream",
     "text": [
      "1.988526553696848e+30 m3 / s2\n"
     ]
    }
   ],
   "source": [
    "print(M_sun)"
   ]
  },
  {
   "cell_type": "markdown",
   "metadata": {},
   "source": [
    "## Question 3:"
   ]
  },
  {
   "cell_type": "markdown",
   "metadata": {},
   "source": [
    "Jupiter has a mass of 1.898e27 kg. It's orbit is approximately circular, and the average distance to the centre of the solar system is 5.2044 AU. Where is"
   ]
  },
  {
   "cell_type": "markdown",
   "metadata": {},
   "source": [
    "$\\frac{m_1}{m_2} = \\frac{r_2}{r_1}$"
   ]
  },
  {
   "cell_type": "code",
   "execution_count": 16,
   "metadata": {},
   "outputs": [
    {
     "name": "stdout",
     "output_type": "stream",
     "text": [
      "radius using astropy conversion=7.79e+11 m, radius using earth radius as a conversion = 7.79e+11 m\n"
     ]
    }
   ],
   "source": [
    "r_AU = 5.2044 * u.au # astronomical units \n",
    "r = 5.2044 * 149.6e9 * u.m # using the fact that Earth is at 1 au, the conversion is the Earth-sun distance!\n",
    "\n",
    "print(f\"radius using astropy conversion={r_AU.to(u.m):.2e}, radius using earth radius as a conversion = {r:.2e}\")"
   ]
  },
  {
   "cell_type": "code",
   "execution_count": 17,
   "metadata": {},
   "outputs": [],
   "source": [
    "M_jupiter = 1.898e27 *u.kg\n",
    "r_sun = M_jupiter / M_sun * r"
   ]
  },
  {
   "cell_type": "code",
   "execution_count": 18,
   "metadata": {},
   "outputs": [
    {
     "name": "stdout",
     "output_type": "stream",
     "text": [
      "743133903.2273655 kg s2 / m2\n"
     ]
    }
   ],
   "source": [
    "print(r_sun)"
   ]
  },
  {
   "cell_type": "code",
   "execution_count": null,
   "metadata": {},
   "outputs": [],
   "source": []
  },
  {
   "cell_type": "code",
   "execution_count": null,
   "metadata": {},
   "outputs": [],
   "source": []
  },
  {
   "cell_type": "code",
   "execution_count": null,
   "metadata": {},
   "outputs": [],
   "source": []
  },
  {
   "cell_type": "code",
   "execution_count": null,
   "metadata": {},
   "outputs": [],
   "source": []
  },
  {
   "cell_type": "code",
   "execution_count": null,
   "metadata": {},
   "outputs": [],
   "source": []
  },
  {
   "cell_type": "code",
   "execution_count": null,
   "metadata": {},
   "outputs": [],
   "source": []
  },
  {
   "cell_type": "code",
   "execution_count": null,
   "metadata": {},
   "outputs": [],
   "source": [
    "def planet_mass(r, T):\n",
    "    \"\"\"for a moon with radial distance (r) in metres, and period (T) in seconds, \n",
    "       returns the mass of the central planet in kg\"\"\"\n",
    "    G = 6.67408e-11 * u.m**3 /u.kg / u.s**2 \n",
    "    orb_length = 2 * pi * r\n",
    "    speed = orb_length / T\n",
    "    M_planet = speed**2 * r / G\n",
    "    return M_planet"
   ]
  }
 ],
 "metadata": {
  "kernelspec": {
   "display_name": "Python 3",
   "language": "python",
   "name": "python3"
  },
  "language_info": {
   "codemirror_mode": {
    "name": "ipython",
    "version": 3
   },
   "file_extension": ".py",
   "mimetype": "text/x-python",
   "name": "python",
   "nbconvert_exporter": "python",
   "pygments_lexer": "ipython3",
   "version": "3.7.6"
  }
 },
 "nbformat": 4,
 "nbformat_minor": 4
}
