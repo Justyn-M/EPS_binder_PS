{
 "cells": [
  {
   "cell_type": "markdown",
   "metadata": {},
   "source": [
    "# This is a \"Jupyter Notebook\". \n",
    "It is a way of combining text and code (here we use the programming language Python3) and running it in a web browser. Coding is an incredible tool for exploring large amounts of data, especially if you want to perform similar analyses over and over on different datasets. \n",
    "\n",
    "We would like you to use this notebook as a basic calculator to get used to this environment. You will find it extremely useful for future work. \n",
    "\n",
    "We've put in the first few steps for you. "
   ]
  },
  {
   "cell_type": "markdown",
   "metadata": {},
   "source": [
    "some useful links for help with jupyter notebooks:\n",
    "\n",
    "https://towardsdatascience.com/jypyter-notebook-shortcuts-bf0101a98330"
   ]
  },
  {
   "cell_type": "markdown",
   "metadata": {},
   "source": [
    "some useful links for help with python:\n",
    "\n",
    "https://howchoo.com/g/m2vmotm5odn/basic-math-in-python\n",
    "\n",
    "https://pythonprogramming.net/math-basics-python-3-beginner-tutorial/\n",
    "\n",
    "https://en.wikibooks.org/wiki/Non-Programmer%27s_Tutorial_for_Python_3"
   ]
  },
  {
   "cell_type": "markdown",
   "metadata": {},
   "source": [
    "#### maths usage\n",
    "| operator | name   | example |\n",
    "|:------|:---------------|:------|\n",
    "|   +  | addition| 2 + 2 |\n",
    "|   -  | subtraction| 2 - 2 |\n",
    "|   *  | multiplication| 2 * 2 |\n",
    "|   /  | division| 2 / 2 |\n",
    "|   **  | exponent| 2**4 |\n",
    "\n",
    "\n",
    "#### Jupyter usage\n",
    "| operator | name  |\n",
    "|:------|:---------------|\n",
    "|   ctrl + enter  | run a cell |\n",
    "|   up/down arrows  | move between cells |"
   ]
  },
  {
   "cell_type": "markdown",
   "metadata": {},
   "source": [
    "# Start coding :)"
   ]
  },
  {
   "cell_type": "markdown",
   "metadata": {},
   "source": [
    "First, you will need to run this section so we can use \"pi\" to mean 3.14159265357959.....\n",
    "\n",
    "It is also useful to import the package called \"NumPy\" (https://numpy.org/). It is fundamental for scientific computing with Python and allows you to do algebra, integration, statistics and more. \n"
   ]
  },
  {
   "cell_type": "code",
   "execution_count": null,
   "metadata": {},
   "outputs": [],
   "source": [
    "import numpy as np\n",
    "from math import pi"
   ]
  },
  {
   "cell_type": "markdown",
   "metadata": {},
   "source": [
    "## Question 1:"
   ]
  },
  {
   "cell_type": "markdown",
   "metadata": {},
   "source": [
    "The moon revolves around the earth every $27.32$ days. Its orbit is $3.85\\times 10^{5}$ km from the Earth's centre. What is the mass of the Earth?"
   ]
  },
  {
   "cell_type": "markdown",
   "metadata": {},
   "source": [
    "$M_{Earth} = \\cfrac{v^2 r}{G}$"
   ]
  },
  {
   "cell_type": "markdown",
   "metadata": {},
   "source": [
    "The gravitational constant is \n",
    "\n",
    "$G = 6.67408\\times 10^{-11} \\, \\cfrac{m^3}{kg\\, s^2}$"
   ]
  },
  {
   "cell_type": "markdown",
   "metadata": {},
   "source": [
    "r is the distance between the Earth and the Moon\n"
   ]
  },
  {
   "cell_type": "code",
   "execution_count": 9,
   "metadata": {},
   "outputs": [],
   "source": [
    "# use the letter \"e\" to mean \"10^\"\n",
    "G = 6.67408e-11\n",
    "r = "
   ]
  },
  {
   "cell_type": "markdown",
   "metadata": {},
   "source": [
    "v is the speed of the Moon. Remember:\n",
    "\n",
    "$speed = \\cfrac{distance}{time}$\n",
    "\n",
    "Don't forget about units! "
   ]
  },
  {
   "cell_type": "code",
   "execution_count": null,
   "metadata": {},
   "outputs": [],
   "source": [
    "# distance should be in metres. \n",
    "distance =\n",
    "\n",
    "# time should be in seconds\n",
    "time = "
   ]
  },
  {
   "cell_type": "code",
   "execution_count": 11,
   "metadata": {},
   "outputs": [],
   "source": [
    "speed =\n"
   ]
  },
  {
   "cell_type": "code",
   "execution_count": 11,
   "metadata": {},
   "outputs": [],
   "source": [
    "M_earth =\n",
    "\n",
    "print(M_earth)"
   ]
  },
  {
   "cell_type": "markdown",
   "metadata": {},
   "source": [
    "# END"
   ]
  },
  {
   "cell_type": "markdown",
   "metadata": {},
   "source": [
    "### Extra questions for those of you thirsting for more:"
   ]
  },
  {
   "cell_type": "markdown",
   "metadata": {},
   "source": [
    "A)\n",
    "The Earth revolves around the Sun every 365.26 days. Its orbit is approximately circular, and the average distance from the Sun's centre is 1 Astronomical Unit (1 AU). What is the mass of the Sun?"
   ]
  },
  {
   "cell_type": "markdown",
   "metadata": {},
   "source": [
    "$1 AU = 1.496\\times 10^{11} m$"
   ]
  },
  {
   "cell_type": "code",
   "execution_count": 13,
   "metadata": {},
   "outputs": [],
   "source": [
    "# distance should be in metres. \n",
    "distance =\n",
    "\n",
    "# time should be in seconds\n",
    "time = "
   ]
  },
  {
   "cell_type": "code",
   "execution_count": 14,
   "metadata": {},
   "outputs": [],
   "source": [
    "speed = "
   ]
  },
  {
   "cell_type": "code",
   "execution_count": 12,
   "metadata": {},
   "outputs": [],
   "source": [
    "M_sun = \n",
    "\n",
    "print(M_sun)"
   ]
  },
  {
   "cell_type": "markdown",
   "metadata": {},
   "source": [
    "B) Jupiter has a mass of $1.898\\times 10^{27}$ kg. It's orbit is approximately circular, and the average distance to the _centre of the solar system_ is 5.2044 AU. How close is the centre of the solar system to the centre of the sun? \n",
    "\n",
    "If the sun's radius is $6.96\\times 10^{8}$ m, is the centre of the solar system inside the sun at all?"
   ]
  },
  {
   "cell_type": "markdown",
   "metadata": {},
   "source": [
    "You will need this relationship between two gravitationally bound bodies around a centre of mass (body 1 & 2):\n",
    "\n",
    "$\\cfrac{m_1}{m_2} = \\cfrac{r_2}{r_1}$"
   ]
  },
  {
   "cell_type": "code",
   "execution_count": null,
   "metadata": {},
   "outputs": [],
   "source": [
    "# distance from Jupiter to centre of mass:\n",
    "r_1 =\n",
    "\n",
    "# mass of jupiter in kg\n",
    "M_jupiter =\n"
   ]
  },
  {
   "cell_type": "code",
   "execution_count": null,
   "metadata": {},
   "outputs": [],
   "source": [
    "r_2 = "
   ]
  },
  {
   "cell_type": "markdown",
   "metadata": {},
   "source": [
    "## exploring the potential of coding with Python"
   ]
  },
  {
   "cell_type": "markdown",
   "metadata": {},
   "source": [
    "what if we were unsure of our units. Let's use the astropy units package"
   ]
  },
  {
   "cell_type": "code",
   "execution_count": null,
   "metadata": {},
   "outputs": [],
   "source": [
    "import astropy.units as u"
   ]
  },
  {
   "cell_type": "markdown",
   "metadata": {},
   "source": [
    "now, any variable we use, we can assign a unit. Then when we do any maths operations, the code will keep track for us. Try repeating questions 1 and 2 using this package. \n",
    "\n",
    "the units that exist can be found here:\n",
    "\n",
    "https://docs.astropy.org/en/stable/units/#module-astropy.units.si"
   ]
  },
  {
   "cell_type": "code",
   "execution_count": null,
   "metadata": {},
   "outputs": [],
   "source": [
    "# question 1:\n",
    "G = 6.67408e-11 * u.m**3 /u.kg / u.s**2 \n",
    "distance_earth_moon = 3.85e8 * u.m # metres \n",
    "moon_orbit_period = 27.32 * u.day  # days\n",
    "\n",
    "# now, try printing moon_orbit_period. It can be printed in any unit you like! \n",
    "print(moon_orbit_period.to(u.second))\n",
    "print(moon_orbit_period.to(u.year))\n",
    "print(moon_orbit_period.to(u.hour))\n",
    "print(moon_orbit_period.to(u.fortnight))"
   ]
  },
  {
   "cell_type": "code",
   "execution_count": null,
   "metadata": {},
   "outputs": [],
   "source": [
    "# question 2\n",
    "\n",
    "# there are two ways to assign units to Jupiter's distance\n",
    "\n",
    "# option 1: do your own conversion in metres and assing metres\n",
    "r_option1 = 5.2044 * 149.6e9 * u.m \n",
    "\n",
    "# option 2: assign the unit AU. \n",
    "r_option2 =  5.2044 * u.au\n",
    "\n",
    "print(f\"radius using earth radius as a conversion = {r_option1}\")\n",
    "print(f\"radius using astropy conversion={r_option2.to(u.m)}\")"
   ]
  },
  {
   "cell_type": "markdown",
   "metadata": {},
   "source": [
    "What if we make a \"function\" called planet_mass that will return the mass of a planet if we know the distance and orbit period of one of its satellites.\n"
   ]
  },
  {
   "cell_type": "code",
   "execution_count": null,
   "metadata": {},
   "outputs": [],
   "source": [
    "def planet_mass(r, T):\n",
    "    \"\"\"for a moon with radial distance (r) in metres, and period (T) in seconds, \n",
    "       returns the mass of the central planet in kg\"\"\"\n",
    "    # give the function the gravitational constant\n",
    "    G = 6.67408e-11 * u.m**3 /u.kg / u.s**2 \n",
    "    \n",
    "    # tell the function how to calculate orbital distance\n",
    "    orb_length = 2 * pi * r\n",
    "    \n",
    "    # tell the function how to calculate orbital speed\n",
    "    speed = orb_length / T\n",
    "    \n",
    "    # tell the function how to calculate the mass of the planet\n",
    "    M_planet = speed**2 * r / G\n",
    "    \n",
    "    # tell the function to print the mass of the planet and return this number\n",
    "    print(M_planet)\n",
    "    \n",
    "    return M_planet"
   ]
  },
  {
   "cell_type": "markdown",
   "metadata": {},
   "source": [
    "let's try using this function for question 1:"
   ]
  },
  {
   "cell_type": "code",
   "execution_count": null,
   "metadata": {},
   "outputs": [],
   "source": [
    "distance_earth_moon = 3.85e8 * u.m # metres \n",
    "moon_orbit_period = 27.32 * u.day  # days\n",
    "\n",
    "planet_mass(distance_earth_moon, moon_orbit_period)"
   ]
  }
 ],
 "metadata": {
  "kernelspec": {
   "display_name": "Python 3",
   "language": "python",
   "name": "python3"
  },
  "language_info": {
   "codemirror_mode": {
    "name": "ipython",
    "version": 3
   },
   "file_extension": ".py",
   "mimetype": "text/x-python",
   "name": "python",
   "nbconvert_exporter": "python",
   "pygments_lexer": "ipython3",
   "version": "3.7.6"
  }
 },
 "nbformat": 4,
 "nbformat_minor": 4
}
